{
 "cells": [
  {
   "cell_type": "markdown",
   "metadata": {},
   "source": [
    "# LightGB Model for Google Analytics Challenge"
   ]
  },
  {
   "cell_type": "code",
   "execution_count": 43,
   "metadata": {},
   "outputs": [],
   "source": [
    "import numpy as np\n",
    "import pandas as pd\n",
    "from sklearn import preprocessing\n",
    "import matplotlib.pyplot as plt\n",
    "import seaborn as sns\n",
    "import warnings\n",
    "warnings.filterwarnings('ignore')"
   ]
  },
  {
   "cell_type": "code",
   "execution_count": 44,
   "metadata": {},
   "outputs": [],
   "source": [
    "# Import csv's\n",
    "df_train = pd.read_csv(r\"C:\\Google Analytics Customer Revenue Prediction\\train-flattened.csv\"\n",
    "                       ,dtype={'fullVisitorId': 'str','totals.transactionRevenue':'float'}, header=0)\n",
    "\n",
    "df_test= pd.read_csv(r\"C:\\Google Analytics Customer Revenue Prediction\\test-flattened.csv\"\n",
    "                     ,dtype={'fullVisitorId': 'str'},header=0)"
   ]
  },
  {
   "cell_type": "code",
   "execution_count": 45,
   "metadata": {},
   "outputs": [
    {
     "name": "stdout",
     "output_type": "stream",
     "text": [
      "Is there more than one transaction by VisitorId? True\n",
      "\n",
      "Number of unique visitors in train set: 714167 out of 903653\n",
      "\n",
      "Number of unique visitors in test set: 617242 out of 804684\n"
     ]
    }
   ],
   "source": [
    "# Lets Explore the variables\n",
    "df_train.columns\n",
    "print('Is there more than one transaction by VisitorId?',\n",
    "      len(df_train['fullVisitorId'])!=df_train['fullVisitorId'].nunique())\n",
    "print('\\nNumber of unique visitors in train set:'\n",
    "      ,df_train['fullVisitorId'].nunique(),'out of',len(df_train))\n",
    "print('\\nNumber of unique visitors in test set:'\n",
    "      ,df_test['fullVisitorId'].nunique(),'out of',len(df_test))"
   ]
  },
  {
   "cell_type": "code",
   "execution_count": 46,
   "metadata": {},
   "outputs": [
    {
     "name": "stdout",
     "output_type": "stream",
     "text": [
      "\n",
      "Is there different columns from train and test?: False\n",
      "Variables not in test but in train :  {'trafficSource.campaignCode'}\n"
     ]
    }
   ],
   "source": [
    "# Drop Different Columns from train and test\n",
    "print('\\nIs there different columns from train and test?:',\n",
    "      df_train.drop('totals.transactionRevenue',axis=1).columns.tolist()==df_test.columns.tolist())\n",
    "print(\"Variables not in test but in train : \", \n",
    "      set(df_train.drop('totals.transactionRevenue',axis=1).columns).difference(set(df_test.columns)))\n",
    "dif = list(set(df_train.drop('totals.transactionRevenue',axis=1).columns).difference(set(df_test.columns)))\n",
    "df_train.drop(dif,axis=1,inplace=True)"
   ]
  },
  {
   "cell_type": "code",
   "execution_count": 47,
   "metadata": {},
   "outputs": [],
   "source": [
    "# Columns with constant values\n",
    "dropcols_train = [c for c in df_train.columns if (df_train[c].nunique()==1) & (df_train[c].isnull().sum() == 0)]\n",
    "dropcols_test = [c for c in df_test.columns if (df_test[c].nunique()==1) & (df_test[c].isnull().sum() == 0)]\n",
    "cols_to_drop = list(set(dropcols_train+dropcols_test))"
   ]
  },
  {
   "cell_type": "markdown",
   "metadata": {},
   "source": [
    "### Feature Engineering"
   ]
  },
  {
   "cell_type": "code",
   "execution_count": 48,
   "metadata": {},
   "outputs": [
    {
     "name": "stdout",
     "output_type": "stream",
     "text": [
      "Train and Test have any different features? False\n"
     ]
    }
   ],
   "source": [
    "# Verify is features in both train and test datasets are equal:\n",
    "print('Train and Test have any different features?',\n",
    "      False in df_train.drop('totals.transactionRevenue',axis=1).columns == df_test.columns)"
   ]
  },
  {
   "cell_type": "markdown",
   "metadata": {},
   "source": [
    "So, apart from the target values, there are no features difference between these datasets.The 'sessionId' and 'visitId' features are not going to be usefull for us, so we can drop it."
   ]
  },
  {
   "cell_type": "code",
   "execution_count": 49,
   "metadata": {},
   "outputs": [],
   "source": [
    "cols_to_drop = list(set(cols_to_drop + ['sessionId','visitId']))"
   ]
  },
  {
   "cell_type": "code",
   "execution_count": 50,
   "metadata": {},
   "outputs": [],
   "source": [
    "# Store and Drops Id's from datasets, and Target from Train Dataset\n",
    "df_train[\"totals.transactionRevenue\"] = df_train[\"totals.transactionRevenue\"].astype(float)\n",
    "df_train[\"totals.transactionRevenue\"].fillna(0, inplace=True)# Impute 0 for missing target values\n",
    "y_train = df_train[\"totals.transactionRevenue\"].values\n",
    "train_id = df_train[\"fullVisitorId\"].values\n",
    "pred_id = df_test[\"fullVisitorId\"].values"
   ]
  },
  {
   "cell_type": "code",
   "execution_count": 51,
   "metadata": {},
   "outputs": [
    {
     "name": "stdout",
     "output_type": "stream",
     "text": [
      "process date time ...\n",
      "process device ...\n",
      "process totals ...\n",
      "process geo network ...\n",
      "process Custom Features ...\n"
     ]
    }
   ],
   "source": [
    "# In[6]: Feature Engineering:\n",
    "def process_date_time(data_df):\n",
    "    print(\"process date time ...\")\n",
    "    data_df['date'] = data_df['date'].astype(str)\n",
    "    data_df[\"date\"] = data_df[\"date\"].apply(lambda x : x[:4] + \"-\" + x[4:6] + \"-\" + x[6:])\n",
    "    data_df[\"date\"] = pd.to_datetime(data_df[\"date\"])   \n",
    "    data_df[\"year\"] = data_df['date'].dt.year\n",
    "    data_df[\"month\"] = data_df['date'].dt.month\n",
    "    data_df[\"day\"] = data_df['date'].dt.day\n",
    "    data_df[\"weekday\"] = data_df['date'].dt.weekday\n",
    "    data_df['weekofyear'] = data_df['date'].dt.weekofyear\n",
    "    data_df['month_unique_user_count'] = data_df.groupby('month')['fullVisitorId'].transform('nunique')\n",
    "    data_df['day_unique_user_count'] = data_df.groupby('day')['fullVisitorId'].transform('nunique')\n",
    "    data_df['weekday_unique_user_count'] = data_df.groupby('weekday')['fullVisitorId'].transform('nunique')\n",
    "    data_df['weekofyear_unique_user_count'] = data_df.groupby('weekofyear')['fullVisitorId'].transform('nunique')\n",
    "    return data_df\n",
    "\n",
    "def process_device(data_df):\n",
    "    print(\"process device ...\")\n",
    "    data_df['browser.category'] = data_df['device.browser'] + '_' + data_df['device.deviceCategory']\n",
    "    data_df['browser.operatingSystem'] = data_df['device.browser'] + '_' + data_df['device.operatingSystem']\n",
    "    data_df['source.country'] = data_df['trafficSource.source'] + '_' + data_df['geoNetwork.country']\n",
    "    return data_df\n",
    "\n",
    "def process_totals(data_df):\n",
    "    print(\"process totals ...\")\n",
    "#    data_df['visitNumber'] = np.log1p(data_df['visitNumber'])\n",
    "#    data_df['totals.hits'] = np.log1p(data_df['totals.hits'])\n",
    "#    data_df['totals.pageviews'] = np.log1p(data_df['totals.pageviews'].fillna(0))\n",
    "    data_df['mean_hits_per_day'] = data_df.groupby(['day'])['totals.hits'].transform('mean')\n",
    "    data_df['mean_hits_per_month'] = data_df.groupby(['month'])['totals.hits'].transform('mean')\n",
    "    data_df['mean_hits_per_weekday'] = data_df.groupby(['weekday'])['totals.hits'].transform('mean')\n",
    "    data_df['mean_hits_per_weekofyear'] = data_df.groupby(['weekofyear'])['totals.hits'].transform('mean')\n",
    "    data_df['sum_hits_per_day'] = data_df.groupby(['day'])['totals.hits'].transform('sum')\n",
    "    data_df['sum_hits_per_month'] = data_df.groupby(['month'])['totals.hits'].transform('sum')\n",
    "    data_df['sum_hits_per_weekday'] = data_df.groupby(['weekday'])['totals.hits'].transform('sum')\n",
    "    data_df['sum_hits_per_weekofyear'] = data_df.groupby(['weekofyear'])['totals.hits'].transform('sum')\n",
    "    \n",
    "    data_df['mean_pageviews_per_day'] = data_df.groupby(['day'])['totals.pageviews'].transform('mean')\n",
    "    data_df['mean_pageviews_per_month'] = data_df.groupby(['month'])['totals.pageviews'].transform('mean')\n",
    "    data_df['mean_pageviews_per_weekday'] = data_df.groupby(['weekday'])['totals.pageviews'].transform('mean')\n",
    "    data_df['mean_pageviews_per_weekofyear'] = data_df.groupby(['weekofyear'])['totals.pageviews'].transform('mean')\n",
    "    data_df['sum_pageviews_per_day'] = data_df.groupby(['day'])['totals.pageviews'].transform('sum')\n",
    "    data_df['sum_pageviews_per_month'] = data_df.groupby(['month'])['totals.pageviews'].transform('sum')\n",
    "    data_df['sum_pageviews_per_weekday'] = data_df.groupby(['weekday'])['totals.pageviews'].transform('sum')\n",
    "    data_df['sum_pageviews_per_weekofyear'] = data_df.groupby(['weekofyear'])['totals.pageviews'].transform('sum')\n",
    "    return data_df\n",
    "\n",
    "def process_geo_network(data_df):\n",
    "    print(\"process geo network ...\")\n",
    "    data_df['sum_pageviews_per_network_domain'] = data_df.groupby('geoNetwork.networkDomain')['totals.pageviews'].transform('sum')\n",
    "    data_df['count_pageviews_per_network_domain'] = data_df.groupby('geoNetwork.networkDomain')['totals.pageviews'].transform('count')\n",
    "    data_df['mean_pageviews_per_network_domain'] = data_df.groupby('geoNetwork.networkDomain')['totals.pageviews'].transform('mean')\n",
    "    data_df['sum_hits_per_network_domain'] = data_df.groupby('geoNetwork.networkDomain')['totals.hits'].transform('sum')\n",
    "    data_df['count_hits_per_network_domain'] = data_df.groupby('geoNetwork.networkDomain')['totals.hits'].transform('count')\n",
    "    data_df['mean_hits_per_network_domain'] = data_df.groupby('geoNetwork.networkDomain')['totals.hits'].transform('mean')\n",
    "    data_df['mean_pagev_per_country'] = df_train.groupby('geoNetwork.country')['totals.pageviews'].transform('mean')\n",
    "    data_df['mean_totalshits_per_country'] = df_train.groupby('geoNetwork.country')['totals.hits'].transform('mean')\n",
    "    data_df['mean_visitStartTime_per_country'] = df_train.groupby('geoNetwork.country')['visitStartTime'].transform('mean')\n",
    "    data_df['mean_visitNumber_per_country'] = df_train.groupby('geoNetwork.country')['visitNumber'].transform('mean')\n",
    "    \n",
    "    data_df['hits_city'] = data_df.groupby('geoNetwork.city')['totals.hits'].transform('count')\n",
    "    data_df['pageviews_city'] = data_df.groupby('geoNetwork.city')['totals.pageviews'].transform('count')\n",
    "    return data_df\n",
    "\n",
    "def custom_features(data_df):\n",
    "    print(\"process Custom Features ...\")\n",
    "    data_df['bounces_sum'] = data_df.groupby('fullVisitorId')['totals.bounces'].transform('sum')\n",
    "    data_df['newVisits_sum'] = data_df.groupby('fullVisitorId')['totals.newVisits'].transform('sum')\n",
    "    \n",
    "    data_df['visitStart_mean_day'] = data_df.groupby('day')['visitStartTime'].transform('mean')\n",
    "    data_df['visitStart_mean_weekofyear'] = data_df.groupby('weekofyear')['visitStartTime'].transform('mean')\n",
    "    data_df['visitStart_mean_weekday'] = data_df.groupby('weekofyear')['visitStartTime'].transform('mean')\n",
    "    data_df['visitStart_mean_country'] = data_df.groupby('geoNetwork.country')['visitStartTime'].transform('mean')\n",
    "    data_df['visitStart_mean_city'] = data_df.groupby('geoNetwork.city')['visitStartTime'].transform('mean')\n",
    "    data_df['visitStart_mean_continent'] = data_df.groupby('geoNetwork.continent')['visitStartTime'].transform('mean')\n",
    "    data_df['visitStart_mean_device.browser'] = data_df.groupby('device.browser')['visitStartTime'].transform('mean')\n",
    "    data_df['visitStart_mean_device.operatingSystem'] = data_df.groupby('device.operatingSystem')['visitStartTime'].transform('mean')  \n",
    "    return data_df\n",
    "\n",
    "df_merge = pd.concat([df_train.drop(\"totals.transactionRevenue\",axis=1),df_test],axis=0)\n",
    "df_merge.drop(cols_to_drop,axis=1,inplace=True)\n",
    "\n",
    "df_merge['trafficSource.adwordsClickInfo.page'] = df_merge['trafficSource.adwordsClickInfo.page'].astype(float)\n",
    "df_merge['trafficSource.adwordsClickInfo.page'].fillna(0,inplace=True)\n",
    "\n",
    "\n",
    "df_merge['totals.pageviews'] = df_merge['totals.pageviews'].astype(float)\n",
    "df_merge['totals.pageviews'].fillna(0,inplace=True)\n",
    "\n",
    "df_merge['totals.bounces'] = df_merge['totals.pageviews'].astype(float)\n",
    "df_merge['totals.bounces'].fillna(0,inplace=True)\n",
    "\n",
    "df_merge['totals.newVisits'] = df_merge['totals.newVisits'].astype(float)\n",
    "df_merge['totals.newVisits'].fillna(0,inplace=True)\n",
    "\n",
    "\n",
    "df_merge = process_date_time(df_merge)\n",
    "df_merge.drop(['date'],axis=1,inplace=True)\n",
    "\n",
    "df_merge = process_device(df_merge)\n",
    "\n",
    "df_merge = process_totals(df_merge)\n",
    "\n",
    "df_merge = process_geo_network(df_merge)\n",
    "\n",
    "df_merge = custom_features(df_merge)"
   ]
  },
  {
   "cell_type": "markdown",
   "metadata": {},
   "source": [
    "### Dealing with missing Data"
   ]
  },
  {
   "cell_type": "code",
   "execution_count": 52,
   "metadata": {},
   "outputs": [],
   "source": [
    "# Missing Data per features type\n",
    "mergeId = df_merge['fullVisitorId']\n",
    "df_merge.drop('fullVisitorId',axis=1,inplace=True)\n",
    "\n",
    "qualitative_features = [f for f in df_merge.columns \n",
    "                        if (df_merge[f].dtypes == object) | (df_merge[f].dtypes == bool)] #Lista de Features Qualitativas.\n",
    "quantitative_features = [f for f in df_merge.dropna().columns \n",
    "                         if (df_merge[f].dtypes != object) & (df_merge[f].dtypes != bool)] #Lista de Features Qualitativas.\n"
   ]
  },
  {
   "cell_type": "code",
   "execution_count": 53,
   "metadata": {},
   "outputs": [
    {
     "data": {
      "text/html": [
       "<div>\n",
       "<style scoped>\n",
       "    .dataframe tbody tr th:only-of-type {\n",
       "        vertical-align: middle;\n",
       "    }\n",
       "\n",
       "    .dataframe tbody tr th {\n",
       "        vertical-align: top;\n",
       "    }\n",
       "\n",
       "    .dataframe thead th {\n",
       "        text-align: right;\n",
       "    }\n",
       "</style>\n",
       "<table border=\"1\" class=\"dataframe\">\n",
       "  <thead>\n",
       "    <tr style=\"text-align: right;\">\n",
       "      <th></th>\n",
       "      <th>Total</th>\n",
       "      <th>Percent</th>\n",
       "    </tr>\n",
       "  </thead>\n",
       "  <tbody>\n",
       "    <tr>\n",
       "      <th>trafficSource.adContent</th>\n",
       "      <td>1643600</td>\n",
       "      <td>0.962105</td>\n",
       "    </tr>\n",
       "    <tr>\n",
       "      <th>trafficSource.adwordsClickInfo.slot</th>\n",
       "      <td>1633063</td>\n",
       "      <td>0.955937</td>\n",
       "    </tr>\n",
       "    <tr>\n",
       "      <th>trafficSource.adwordsClickInfo.isVideoAd</th>\n",
       "      <td>1633063</td>\n",
       "      <td>0.955937</td>\n",
       "    </tr>\n",
       "    <tr>\n",
       "      <th>trafficSource.adwordsClickInfo.adNetworkType</th>\n",
       "      <td>1633063</td>\n",
       "      <td>0.955937</td>\n",
       "    </tr>\n",
       "    <tr>\n",
       "      <th>trafficSource.adwordsClickInfo.gclId</th>\n",
       "      <td>1632914</td>\n",
       "      <td>0.955850</td>\n",
       "    </tr>\n",
       "    <tr>\n",
       "      <th>trafficSource.isTrueDirect</th>\n",
       "      <td>1173819</td>\n",
       "      <td>0.687112</td>\n",
       "    </tr>\n",
       "    <tr>\n",
       "      <th>trafficSource.referralPath</th>\n",
       "      <td>1142073</td>\n",
       "      <td>0.668529</td>\n",
       "    </tr>\n",
       "    <tr>\n",
       "      <th>trafficSource.keyword</th>\n",
       "      <td>893961</td>\n",
       "      <td>0.523293</td>\n",
       "    </tr>\n",
       "    <tr>\n",
       "      <th>geoNetwork.metro</th>\n",
       "      <td>0</td>\n",
       "      <td>0.000000</td>\n",
       "    </tr>\n",
       "    <tr>\n",
       "      <th>device.browser</th>\n",
       "      <td>0</td>\n",
       "      <td>0.000000</td>\n",
       "    </tr>\n",
       "    <tr>\n",
       "      <th>device.deviceCategory</th>\n",
       "      <td>0</td>\n",
       "      <td>0.000000</td>\n",
       "    </tr>\n",
       "    <tr>\n",
       "      <th>device.isMobile</th>\n",
       "      <td>0</td>\n",
       "      <td>0.000000</td>\n",
       "    </tr>\n",
       "    <tr>\n",
       "      <th>device.operatingSystem</th>\n",
       "      <td>0</td>\n",
       "      <td>0.000000</td>\n",
       "    </tr>\n",
       "    <tr>\n",
       "      <th>geoNetwork.city</th>\n",
       "      <td>0</td>\n",
       "      <td>0.000000</td>\n",
       "    </tr>\n",
       "    <tr>\n",
       "      <th>geoNetwork.continent</th>\n",
       "      <td>0</td>\n",
       "      <td>0.000000</td>\n",
       "    </tr>\n",
       "    <tr>\n",
       "      <th>geoNetwork.country</th>\n",
       "      <td>0</td>\n",
       "      <td>0.000000</td>\n",
       "    </tr>\n",
       "    <tr>\n",
       "      <th>source.country</th>\n",
       "      <td>0</td>\n",
       "      <td>0.000000</td>\n",
       "    </tr>\n",
       "    <tr>\n",
       "      <th>geoNetwork.networkDomain</th>\n",
       "      <td>0</td>\n",
       "      <td>0.000000</td>\n",
       "    </tr>\n",
       "    <tr>\n",
       "      <th>geoNetwork.region</th>\n",
       "      <td>0</td>\n",
       "      <td>0.000000</td>\n",
       "    </tr>\n",
       "    <tr>\n",
       "      <th>geoNetwork.subContinent</th>\n",
       "      <td>0</td>\n",
       "      <td>0.000000</td>\n",
       "    </tr>\n",
       "  </tbody>\n",
       "</table>\n",
       "</div>"
      ],
      "text/plain": [
       "                                                Total   Percent\n",
       "trafficSource.adContent                       1643600  0.962105\n",
       "trafficSource.adwordsClickInfo.slot           1633063  0.955937\n",
       "trafficSource.adwordsClickInfo.isVideoAd      1633063  0.955937\n",
       "trafficSource.adwordsClickInfo.adNetworkType  1633063  0.955937\n",
       "trafficSource.adwordsClickInfo.gclId          1632914  0.955850\n",
       "trafficSource.isTrueDirect                    1173819  0.687112\n",
       "trafficSource.referralPath                    1142073  0.668529\n",
       "trafficSource.keyword                          893961  0.523293\n",
       "geoNetwork.metro                                    0  0.000000\n",
       "device.browser                                      0  0.000000\n",
       "device.deviceCategory                               0  0.000000\n",
       "device.isMobile                                     0  0.000000\n",
       "device.operatingSystem                              0  0.000000\n",
       "geoNetwork.city                                     0  0.000000\n",
       "geoNetwork.continent                                0  0.000000\n",
       "geoNetwork.country                                  0  0.000000\n",
       "source.country                                      0  0.000000\n",
       "geoNetwork.networkDomain                            0  0.000000\n",
       "geoNetwork.region                                   0  0.000000\n",
       "geoNetwork.subContinent                             0  0.000000"
      ]
     },
     "execution_count": 53,
     "metadata": {},
     "output_type": "execute_result"
    }
   ],
   "source": [
    "def missingData(df,features):\n",
    "    total = df[features].isnull().sum().sort_values(ascending=False)\n",
    "    percent = (df[features].isnull().sum()/df[features].isnull().count()).sort_values(ascending=False)\n",
    "    missing_data = pd.concat([total, percent], axis=1, keys=['Total', 'Percent'])\n",
    "    return missing_data\n",
    "\n",
    "#Missing qualitative features data\n",
    "missing_data_quali = missingData(df_merge,qualitative_features)\n",
    "missing_data_quali.head(20)"
   ]
  },
  {
   "cell_type": "code",
   "execution_count": 54,
   "metadata": {},
   "outputs": [
    {
     "data": {
      "text/html": [
       "<div>\n",
       "<style scoped>\n",
       "    .dataframe tbody tr th:only-of-type {\n",
       "        vertical-align: middle;\n",
       "    }\n",
       "\n",
       "    .dataframe tbody tr th {\n",
       "        vertical-align: top;\n",
       "    }\n",
       "\n",
       "    .dataframe thead th {\n",
       "        text-align: right;\n",
       "    }\n",
       "</style>\n",
       "<table border=\"1\" class=\"dataframe\">\n",
       "  <thead>\n",
       "    <tr style=\"text-align: right;\">\n",
       "      <th></th>\n",
       "      <th>Total</th>\n",
       "      <th>Percent</th>\n",
       "    </tr>\n",
       "  </thead>\n",
       "  <tbody>\n",
       "    <tr>\n",
       "      <th>visitStart_mean_device.operatingSystem</th>\n",
       "      <td>0</td>\n",
       "      <td>0.0</td>\n",
       "    </tr>\n",
       "    <tr>\n",
       "      <th>day_unique_user_count</th>\n",
       "      <td>0</td>\n",
       "      <td>0.0</td>\n",
       "    </tr>\n",
       "    <tr>\n",
       "      <th>mean_pageviews_per_day</th>\n",
       "      <td>0</td>\n",
       "      <td>0.0</td>\n",
       "    </tr>\n",
       "    <tr>\n",
       "      <th>sum_hits_per_weekofyear</th>\n",
       "      <td>0</td>\n",
       "      <td>0.0</td>\n",
       "    </tr>\n",
       "    <tr>\n",
       "      <th>sum_hits_per_weekday</th>\n",
       "      <td>0</td>\n",
       "      <td>0.0</td>\n",
       "    </tr>\n",
       "    <tr>\n",
       "      <th>sum_hits_per_month</th>\n",
       "      <td>0</td>\n",
       "      <td>0.0</td>\n",
       "    </tr>\n",
       "    <tr>\n",
       "      <th>sum_hits_per_day</th>\n",
       "      <td>0</td>\n",
       "      <td>0.0</td>\n",
       "    </tr>\n",
       "    <tr>\n",
       "      <th>mean_hits_per_weekofyear</th>\n",
       "      <td>0</td>\n",
       "      <td>0.0</td>\n",
       "    </tr>\n",
       "    <tr>\n",
       "      <th>mean_hits_per_weekday</th>\n",
       "      <td>0</td>\n",
       "      <td>0.0</td>\n",
       "    </tr>\n",
       "    <tr>\n",
       "      <th>mean_hits_per_month</th>\n",
       "      <td>0</td>\n",
       "      <td>0.0</td>\n",
       "    </tr>\n",
       "    <tr>\n",
       "      <th>mean_hits_per_day</th>\n",
       "      <td>0</td>\n",
       "      <td>0.0</td>\n",
       "    </tr>\n",
       "    <tr>\n",
       "      <th>weekofyear_unique_user_count</th>\n",
       "      <td>0</td>\n",
       "      <td>0.0</td>\n",
       "    </tr>\n",
       "    <tr>\n",
       "      <th>weekday_unique_user_count</th>\n",
       "      <td>0</td>\n",
       "      <td>0.0</td>\n",
       "    </tr>\n",
       "    <tr>\n",
       "      <th>month_unique_user_count</th>\n",
       "      <td>0</td>\n",
       "      <td>0.0</td>\n",
       "    </tr>\n",
       "    <tr>\n",
       "      <th>visitStart_mean_device.browser</th>\n",
       "      <td>0</td>\n",
       "      <td>0.0</td>\n",
       "    </tr>\n",
       "    <tr>\n",
       "      <th>weekofyear</th>\n",
       "      <td>0</td>\n",
       "      <td>0.0</td>\n",
       "    </tr>\n",
       "    <tr>\n",
       "      <th>weekday</th>\n",
       "      <td>0</td>\n",
       "      <td>0.0</td>\n",
       "    </tr>\n",
       "    <tr>\n",
       "      <th>day</th>\n",
       "      <td>0</td>\n",
       "      <td>0.0</td>\n",
       "    </tr>\n",
       "    <tr>\n",
       "      <th>month</th>\n",
       "      <td>0</td>\n",
       "      <td>0.0</td>\n",
       "    </tr>\n",
       "    <tr>\n",
       "      <th>year</th>\n",
       "      <td>0</td>\n",
       "      <td>0.0</td>\n",
       "    </tr>\n",
       "  </tbody>\n",
       "</table>\n",
       "</div>"
      ],
      "text/plain": [
       "                                        Total  Percent\n",
       "visitStart_mean_device.operatingSystem      0      0.0\n",
       "day_unique_user_count                       0      0.0\n",
       "mean_pageviews_per_day                      0      0.0\n",
       "sum_hits_per_weekofyear                     0      0.0\n",
       "sum_hits_per_weekday                        0      0.0\n",
       "sum_hits_per_month                          0      0.0\n",
       "sum_hits_per_day                            0      0.0\n",
       "mean_hits_per_weekofyear                    0      0.0\n",
       "mean_hits_per_weekday                       0      0.0\n",
       "mean_hits_per_month                         0      0.0\n",
       "mean_hits_per_day                           0      0.0\n",
       "weekofyear_unique_user_count                0      0.0\n",
       "weekday_unique_user_count                   0      0.0\n",
       "month_unique_user_count                     0      0.0\n",
       "visitStart_mean_device.browser              0      0.0\n",
       "weekofyear                                  0      0.0\n",
       "weekday                                     0      0.0\n",
       "day                                         0      0.0\n",
       "month                                       0      0.0\n",
       "year                                        0      0.0"
      ]
     },
     "execution_count": 54,
     "metadata": {},
     "output_type": "execute_result"
    }
   ],
   "source": [
    "#Missing quantitative features data\n",
    "missing_data_quanti = missingData(df_merge,quantitative_features)\n",
    "missing_data_quanti.head(20)"
   ]
  },
  {
   "cell_type": "code",
   "execution_count": 55,
   "metadata": {},
   "outputs": [
    {
     "name": "stdout",
     "output_type": "stream",
     "text": [
      "\n",
      "Is there any NaN value  in the dataset before?: True\n",
      "\n",
      "Is there any NaN value  in the dataset after?: False\n"
     ]
    }
   ],
   "source": [
    "# Imputation - Declare categorical columns\n",
    "print('\\nIs there any NaN value  in the dataset before?:',df_merge.isnull().sum().any())\n",
    "df_merge[qualitative_features] = df_merge[qualitative_features].astype(str)\n",
    "print('\\nIs there any NaN value  in the dataset after?:',df_merge.isnull().sum().any())"
   ]
  },
  {
   "cell_type": "code",
   "execution_count": 56,
   "metadata": {},
   "outputs": [],
   "source": [
    "# LabelEncoder for Categorical Variables\n",
    "from collections import defaultdict\n",
    "from sklearn.preprocessing import LabelEncoder\n",
    "d = defaultdict(LabelEncoder)\n",
    "### Encoding the variable\n",
    "fit = df_merge[qualitative_features].apply(lambda x: d[x.name].fit_transform(x))\n",
    "df_merge[qualitative_features] = fit"
   ]
  },
  {
   "cell_type": "code",
   "execution_count": 57,
   "metadata": {},
   "outputs": [],
   "source": [
    "# Restore datraframes df_train and df_test\n",
    "df_train = df_merge[:len(df_train)]\n",
    "df_train[\"totals.transactionRevenue\"] = y_train.tolist()\n",
    "df_test = df_merge[len(df_train):]"
   ]
  },
  {
   "cell_type": "markdown",
   "metadata": {},
   "source": [
    "### Division between X_train,X_val,y_train,y_val "
   ]
  },
  {
   "cell_type": "code",
   "execution_count": 58,
   "metadata": {},
   "outputs": [],
   "source": [
    "from sklearn.utils import shuffle\n",
    "from sklearn.model_selection import train_test_split\n",
    "\n",
    "size_test = 0.3\n",
    "df_train = shuffle(df_train) #shuffle data before division\n",
    "train_target = np.log1p(df_train[\"totals.transactionRevenue\"]) # Just for code readibility\n",
    "predictors = df_train.drop(\"totals.transactionRevenue\", axis=1)\n",
    "X_train, X_val, y_train, y_val = train_test_split(predictors, \n",
    "                                                    train_target,\n",
    "                                                    train_size=1-size_test, \n",
    "                                                    test_size=size_test, \n",
    "                                                    random_state=0)\n",
    "X_test = df_test"
   ]
  },
  {
   "cell_type": "markdown",
   "metadata": {},
   "source": [
    "### Create and Train LGBModel"
   ]
  },
  {
   "cell_type": "code",
   "execution_count": 59,
   "metadata": {},
   "outputs": [
    {
     "name": "stdout",
     "output_type": "stream",
     "text": [
      "\n",
      "Training LGBM...\n",
      "Training until validation scores don't improve for 100 rounds.\n",
      "[100]\tvalid_0's rmse: 1.72152\n",
      "[200]\tvalid_0's rmse: 1.65966\n",
      "[300]\tvalid_0's rmse: 1.64115\n",
      "[400]\tvalid_0's rmse: 1.63087\n",
      "[500]\tvalid_0's rmse: 1.62497\n",
      "[600]\tvalid_0's rmse: 1.62146\n",
      "[700]\tvalid_0's rmse: 1.61883\n",
      "[800]\tvalid_0's rmse: 1.61676\n",
      "[900]\tvalid_0's rmse: 1.61495\n",
      "[1000]\tvalid_0's rmse: 1.61362\n",
      "Did not meet early stopping. Best iteration is:\n",
      "[1000]\tvalid_0's rmse: 1.61362\n",
      "End Training LGBM...\n"
     ]
    }
   ],
   "source": [
    "# Custom function to run light gbm model\n",
    "import lightgbm as lgb\n",
    "def run_lgb(train_X, train_y, val_X, val_y, test_X):\n",
    "    params = {\n",
    "        \"objective\" : \"regression\",\n",
    "        \"metric\" : \"rmse\",\n",
    "        \"n_estimators\":1000,\n",
    "        \"num_leaves\" : 30,\n",
    "        \"min_child_samples\" : 30,\n",
    "        \"learning_rate\" : 0.01,\n",
    "        \"bagging_fraction\" : 0.5,\n",
    "        \"feature_fraction\" : 0.5,\n",
    "        \"bagging_frequency\" : 5,\n",
    "        \"bagging_seed\" : 2018,\n",
    "        \"verbosity\" : -1\n",
    "    }\n",
    "    \n",
    "    lgtrain = lgb.Dataset(train_X, label=train_y)\n",
    "    lgval = lgb.Dataset(val_X, label=val_y)\n",
    "    print('\\nTraining LGBM...')\n",
    "    model = lgb.train(params, lgtrain, 8000, valid_sets=[lgval], early_stopping_rounds=100, verbose_eval=100)\n",
    "    \n",
    "    pred_test_y = model.predict(test_X, num_iteration=model.best_iteration)\n",
    "    return pred_test_y, model\n",
    "\n",
    "# Training the model #\n",
    "pred_lgb, lgb_model = run_lgb(X_train, y_train, X_val, y_val, X_test)\n",
    "y_train_lgb = lgb_model.predict(X_train)\n",
    "y_val_lgb = lgb_model.predict(X_val)\n",
    "print('End Training LGBM...')"
   ]
  },
  {
   "cell_type": "code",
   "execution_count": 61,
   "metadata": {},
   "outputs": [
    {
     "data": {
      "image/png": "[encoded data removed]",
      "text/plain": [
       "<Figure size 648x1008 with 1 Axes>"
      ]
     },
     "metadata": {},
     "output_type": "display_data"
    }
   ],
   "source": [
    "# Feature Importance for LGBM\n",
    "fig, ax = plt.subplots(figsize=(9,14))\n",
    "lgb.plot_importance(lgb_model, max_num_features=50, height=0.8, ax=ax)\n",
    "ax.grid(False)\n",
    "plt.title(\"LightGBM - Feature Importance\", fontsize=15)\n",
    "plt.show()"
   ]
  },
  {
   "cell_type": "code",
   "execution_count": 62,
   "metadata": {},
   "outputs": [],
   "source": [
    "# Build Results DFs\n",
    "df_resultado_train = pd.DataFrame(\n",
    "        {\n",
    "         'y_train':y_train.astype(float),\n",
    "#         'y_train_gridXGB':y_train_gridXGB,\n",
    "         'y_train_lgb':y_train_lgb.astype(float),\n",
    "#         'y_train_RF':y_train_RF\n",
    "#         'y_train_las':y_train_las,\n",
    "#         'y_train_rdg':y_train_rdg\n",
    "                })\n",
    "\n",
    "df_resultado_val = pd.DataFrame(\n",
    "        {\n",
    "         'y_val':y_val.astype(float),  \n",
    "#         'y_val_gridXGB':y_val_gridXGB,\n",
    "         'y_val_lgb':y_val_lgb.astype(float),\n",
    "#         'y_val_RF':y_val_RF\n",
    "#         'y_val_las':y_val_las,\n",
    "#         'y_val_rdg':y_val_rdg\n",
    "                })"
   ]
  },
  {
   "cell_type": "code",
   "execution_count": 63,
   "metadata": {},
   "outputs": [
    {
     "data": {
      "text/plain": [
       "<matplotlib.legend.Legend at 0x177060ab438>"
      ]
     },
     "execution_count": 63,
     "metadata": {},
     "output_type": "execute_result"
    },
    {
     "data": {
      "image/png": "[encoded data removed]",
      "text/plain": [
       "<Figure size 432x288 with 1 Axes>"
      ]
     },
     "metadata": {},
     "output_type": "display_data"
    },
    {
     "data": {
      "image/png": "[encoded data removed]",
      "text/plain": [
       "<Figure size 432x288 with 1 Axes>"
      ]
     },
     "metadata": {},
     "output_type": "display_data"
    }
   ],
   "source": [
    "# Plots\n",
    "import matplotlib.pyplot as plt\n",
    "plt.figure(1)\n",
    "df_resultado_val.sort_values('y_val_lgb',inplace=True)\n",
    "df_resultado_val.sort_values('y_val',inplace=True)\n",
    "plt.plot(df_resultado_val['y_val'].tolist(),'r',label='y_val')\n",
    "plt.plot(df_resultado_val['y_val_lgb'].tolist(),'b-.',label='LGB')\n",
    "plt.legend()\n",
    "\n",
    "plt.figure(2)\n",
    "df_resultado_train.sort_values('y_train_lgb',inplace=True)\n",
    "df_resultado_train.sort_values('y_train',inplace=True)\n",
    "plt.plot(df_resultado_train['y_train'].tolist(),'r-',label='y_train')\n",
    "plt.plot(df_resultado_train['y_train_lgb'].tolist(),'b-.',label='LGB')\n",
    "plt.legend()"
   ]
  },
  {
   "cell_type": "code",
   "execution_count": 64,
   "metadata": {},
   "outputs": [
    {
     "name": "stdout",
     "output_type": "stream",
     "text": [
      "\n",
      " RMS lgb 1.6136233914771856\n"
     ]
    }
   ],
   "source": [
    "# RMSE to evaluate the model performance\n",
    "from sklearn.metrics import mean_squared_error\n",
    "from math import sqrt\n",
    "\n",
    "rms_lgb = sqrt(mean_squared_error(y_val, y_val_lgb))\n",
    "print('\\n RMS lgb',rms_lgb)"
   ]
  }
 ],
 "metadata": {
  "kernelspec": {
   "display_name": "Python 3",
   "language": "python",
   "name": "python3"
  },
  "language_info": {
   "codemirror_mode": {
    "name": "ipython",
    "version": 3
   },
   "file_extension": ".py",
   "mimetype": "text/x-python",
   "name": "python",
   "nbconvert_exporter": "python",
   "pygments_lexer": "ipython3",
   "version": "3.6.5"
  }
 },
 "nbformat": 4,
 "nbformat_minor": 2
}
